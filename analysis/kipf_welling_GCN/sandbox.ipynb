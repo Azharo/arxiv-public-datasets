{
 "cells": [
  {
   "cell_type": "markdown",
   "metadata": {},
   "source": [
    "# Make nice graph"
   ]
  },
  {
   "cell_type": "code",
   "execution_count": 1,
   "metadata": {},
   "outputs": [
    {
     "name": "stderr",
     "output_type": "stream",
     "text": [
      "2019-05-02 11:58:39,403 - arxivdata.config - WARNING: default output directory is /home/kokeeffe/research/arxiv-public-datasets/analysis/kipf_welling_GCN/arxiv-data\n"
     ]
    }
   ],
   "source": [
    "import sys\n",
    "sys.path.append('..')\n",
    "import numpy as np\n",
    "import networkx as nx\n",
    "import matplotlib.pyplot as plt\n",
    "import json,gzip\n",
    "import intra_citation as ia \n",
    "import GCN_utils as u\n",
    "%matplotlib inline"
   ]
  },
  {
   "cell_type": "markdown",
   "metadata": {},
   "source": [
    "### Profile"
   ]
  },
  {
   "cell_type": "code",
   "execution_count": 4,
   "metadata": {},
   "outputs": [
    {
     "name": "stdout",
     "output_type": "stream",
     "text": [
      "(# Nodes in G, # articles in meta-data) = (1506500, 1506500)\n",
      "So the syncing worked\n",
      "Loading graph took 1.5179288665453592 mins\n"
     ]
    }
   ],
   "source": [
    "import sys\n",
    "sys.path.append('..')\n",
    "import numpy as np\n",
    "import networkx as nx\n",
    "import matplotlib.pyplot as plt\n",
    "import json,gzip,time\n",
    "import intra_citation as ia \n",
    "from arxiv_public_data.oai_metadata import load_metadata\n",
    "from arxiv_public_data.embeddings.util import load_embeddings, fill_zeros\n",
    "from GCN_utils import *\n",
    "%matplotlib inline\n",
    "\n",
    "N = 100\n",
    "\n",
    "#Load graph & metadata\n",
    "t1 = time.time()\n",
    "\n",
    "#Meta data -- need this later\n",
    "dirname = '/home/kokeeffe/research/arxiv-public-datasets/arxiv-data'\n",
    "m = load_metadata(dirname + '/oai-arxiv-metadata-2019-03-01.json.gz')\n",
    "\n",
    "graph_saved = False    #for debugging, I've already made the full graph\n",
    "if graph_saved == True:\n",
    "    dirname = 'data'\n",
    "    G = nx.read_gpickle(dirname + '/full_graph.gpickle')\n",
    "else:\n",
    "    dirname = '/home/kokeeffe/research/arxiv-public-datasets/arxiv-data/output'\n",
    "    fname = dirname + '/internal-citations.json.gz'\n",
    "    q = json.load(gzip.open(fname, 'rt', encoding='utf-8'))\n",
    "    G = ia.makegraph(q)\n",
    "    G = sync_G_with_metadata(G,m)   #G is missing some articles (see func for more details)\n",
    "\n",
    "#Select subgraph if specified\n",
    "if N != 0:\n",
    "    comps = nx.weakly_connected_components(G)\n",
    "    biggest = max(comps, key=len)\n",
    "    G_cc = G.subgraph(biggest)\n",
    "    nodes = list(G_cc.nodes())[:N]\n",
    "    G_sub = G_cc.subgraph(nodes)\n",
    "else:\n",
    "    G_sub = G\n",
    "\n",
    "nodes_string = np.array(G_sub.nodes())            #nodes labeled by strings\n",
    "nodes_int = np.array(range(G_sub.number_of_nodes()))       #nodes labeled by ints\n",
    "t2 = time.time()\n",
    "print('Loading graph took ' + str((t2-t1)/60.0) + ' mins')"
   ]
  },
  {
   "cell_type": "code",
   "execution_count": 41,
   "metadata": {},
   "outputs": [
    {
     "name": "stdout",
     "output_type": "stream",
     "text": [
      "Loading graph took 2.0024171551068624 mins\n"
     ]
    }
   ],
   "source": [
    "#Load features\n",
    "t1 = time.time()\n",
    "dirname = '/home/kokeeffe/research/arxiv-public-datasets/arxiv-data/output/embeddings'\n",
    "title_vecs = load_titles(G, m, nodes_string, dirname)\n",
    "abstract_vecs = load_abstracts(G, m, nodes_string, dirname)\n",
    "fulltext_vecs = load_fulltext(G, m, nodes_string, dirname)\n",
    "\n",
    "#Load labels\n",
    "dirname = '/home/kokeeffe/research/arxiv-public-datasets/arxiv-data'\n",
    "labels_cat = load_labels(nodes_string, m)\n",
    "t2 = time.time()\n",
    "print( 'Loading features & labels took ' + str((t2-t1)/60.0) + ' mins')"
   ]
  }
 ],
 "metadata": {
  "kernelspec": {
   "display_name": "Python 3",
   "language": "python",
   "name": "python3"
  },
  "language_info": {
   "codemirror_mode": {
    "name": "ipython",
    "version": 3
   },
   "file_extension": ".py",
   "mimetype": "text/x-python",
   "name": "python",
   "nbconvert_exporter": "python",
   "pygments_lexer": "ipython3",
   "version": "3.7.3"
  }
 },
 "nbformat": 4,
 "nbformat_minor": 2
}
