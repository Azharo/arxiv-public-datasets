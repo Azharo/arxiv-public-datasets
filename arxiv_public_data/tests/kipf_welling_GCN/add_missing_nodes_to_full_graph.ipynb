{
 "cells": [
  {
   "cell_type": "markdown",
   "metadata": {},
   "source": [
    "### Fix full graph\n",
    "\n",
    "G is missing some articles, need to find these (using the metadata), and then add them in"
   ]
  },
  {
   "cell_type": "code",
   "execution_count": 4,
   "metadata": {},
   "outputs": [
    {
     "name": "stderr",
     "output_type": "stream",
     "text": [
      "2019-04-29 14:12:55,916 - arxivdata.config - WARNING: default output directory is /home/kokeeffe/research/arxiv-public-datasets/arxiv_public_data/tests/kipf_welling_GCN/arxiv-data\n"
     ]
    },
    {
     "data": {
      "text/plain": [
       "(1.357536, 1.5065)"
      ]
     },
     "execution_count": 4,
     "metadata": {},
     "output_type": "execute_result"
    }
   ],
   "source": [
    "import sys\n",
    "sys.path.append('..')\n",
    "import numpy as np\n",
    "import matplotlib.pyplot as plt\n",
    "import networkx as nx\n",
    "import arxiv_public_data.tests.intra_citation as ia \n",
    "import time, json, gzip\n",
    "import pickle as pkl\n",
    "from arxiv_public_data.oai_metadata import load_metadata\n",
    "\n",
    "\n",
    "#N = 10**2  #size of subgraph to be used (using a subraph during testing phase)\n",
    "N = 0\n",
    "\n",
    "#Graph\n",
    "dirname = '/home/kokeeffe/research/arxiv-public-datasets/arxiv-data/output'\n",
    "fname = dirname + '/internal-citations.json.gz'\n",
    "q = json.load(gzip.open(fname, 'rt', encoding='utf-8'))\n",
    "G = ia.makegraph(q)\n",
    "\n",
    "dirname = '/home/kokeeffe/research/arxiv-public-datasets/arxiv-data'\n",
    "m = load_metadata( dirname + '/oai-arxiv-metadata-2019-03-01.json.gz')\n",
    "len(m) / 10**6\n",
    "\n",
    "G.number_of_nodes() / 10**6, len(m) / 10**6"
   ]
  },
  {
   "cell_type": "markdown",
   "metadata": {},
   "source": [
    "Ok so there are some that are definitely missing. Which ones?"
   ]
  },
  {
   "cell_type": "code",
   "execution_count": 2,
   "metadata": {},
   "outputs": [
    {
     "data": {
      "text/plain": [
       "{'acc-phys/9607002'}"
      ]
     },
     "execution_count": 2,
     "metadata": {},
     "output_type": "execute_result"
    }
   ],
   "source": [
    "#Check if G subset of m\n",
    "G_nodes = list(G.nodes())\n",
    "ids = [x['id'] for x in m]\n",
    "o\n",
    "set(G_nodes) - set(ids)"
   ]
  },
  {
   "cell_type": "markdown",
   "metadata": {},
   "source": [
    "Ok, so one is mislabeled. Hmm... that must be inconsistent labeling."
   ]
  },
  {
   "cell_type": "markdown",
   "metadata": {},
   "source": [
    "Ok, so its empty at least. But lots of them are. What should I do?"
   ]
  },
  {
   "cell_type": "code",
   "execution_count": 29,
   "metadata": {},
   "outputs": [
    {
     "data": {
      "text/plain": [
       "2"
      ]
     },
     "execution_count": 29,
     "metadata": {},
     "output_type": "execute_result"
    }
   ],
   "source": [
    "#find accs:\n",
    "candidates = []\n",
    "for x in ids:\n",
    "    if x[:13] == 'acc-phys/9607':\n",
    "        candidates.append(x)\n",
    "len(candidates)"
   ]
  },
  {
   "cell_type": "code",
   "execution_count": 30,
   "metadata": {},
   "outputs": [
    {
     "data": {
      "text/plain": [
       "['acc-phys/9607001', 'acc-phys/9607003']"
      ]
     },
     "execution_count": 30,
     "metadata": {},
     "output_type": "execute_result"
    }
   ],
   "source": [
    "candidates"
   ]
  },
  {
   "cell_type": "markdown",
   "metadata": {},
   "source": [
    "I'll just throw it out"
   ]
  },
  {
   "cell_type": "code",
   "execution_count": 34,
   "metadata": {},
   "outputs": [],
   "source": [
    "G.remove_node('acc-phys/9607002')"
   ]
  },
  {
   "cell_type": "code",
   "execution_count": 35,
   "metadata": {},
   "outputs": [
    {
     "data": {
      "text/plain": [
       "(148965, 1506500, 1357536)"
      ]
     },
     "execution_count": 35,
     "metadata": {},
     "output_type": "execute_result"
    }
   ],
   "source": [
    "#find missing\n",
    "missing = set(ids) - set(G_nodes)\n",
    "len(missing), len(ids), len(G_nodes)"
   ]
  },
  {
   "cell_type": "code",
   "execution_count": 36,
   "metadata": {},
   "outputs": [
    {
     "data": {
      "text/plain": [
       "(1506500, 1506500)"
      ]
     },
     "execution_count": 36,
     "metadata": {},
     "output_type": "execute_result"
    }
   ],
   "source": [
    "#Then add them in\n",
    "for node in missing:\n",
    "    if not G.has_node(node):\n",
    "        G.add_node(node)\n",
    "G.number_of_nodes(), len(m)"
   ]
  },
  {
   "cell_type": "markdown",
   "metadata": {},
   "source": [
    "Good. Now check if they're ordered the same way"
   ]
  },
  {
   "cell_type": "code",
   "execution_count": 38,
   "metadata": {},
   "outputs": [
    {
     "data": {
      "text/plain": [
       "(['acc-phys/9607003',\n",
       "  'acc-phys/9607001',\n",
       "  'acc-phys/9504001',\n",
       "  'acc-phys/9504002',\n",
       "  'acc-phys/9504003'],\n",
       " ['0704.0001', '0704.0002', '0704.0003', '0704.0004', '0704.0005'])"
      ]
     },
     "execution_count": 38,
     "metadata": {},
     "output_type": "execute_result"
    }
   ],
   "source": [
    "nodes = list(G.nodes())\n",
    "nodes[:5], ids[:5]"
   ]
  },
  {
   "cell_type": "markdown",
   "metadata": {},
   "source": [
    "They're not, so when saving I will use the order of the metadata"
   ]
  },
  {
   "cell_type": "code",
   "execution_count": 46,
   "metadata": {},
   "outputs": [
    {
     "data": {
      "text/plain": [
       "True"
      ]
     },
     "execution_count": 46,
     "metadata": {},
     "output_type": "execute_result"
    }
   ],
   "source": [
    "list(graph_dict.keys()) == ids "
   ]
  },
  {
   "cell_type": "code",
   "execution_count": null,
   "metadata": {},
   "outputs": [],
   "source": [
    "#Load G\n",
    "\n",
    "#Fix G\n",
    "\n",
    "#Save G"
   ]
  },
  {
   "cell_type": "code",
   "execution_count": 13,
   "metadata": {},
   "outputs": [
    {
     "data": {
      "text/plain": [
       "'0704.0001'"
      ]
     },
     "execution_count": 13,
     "metadata": {},
     "output_type": "execute_result"
    }
   ],
   "source": [
    "m[0]['id']"
   ]
  }
 ],
 "metadata": {
  "kernelspec": {
   "display_name": "Python 3",
   "language": "python",
   "name": "python3"
  },
  "language_info": {
   "codemirror_mode": {
    "name": "ipython",
    "version": 3
   },
   "file_extension": ".py",
   "mimetype": "text/x-python",
   "name": "python",
   "nbconvert_exporter": "python",
   "pygments_lexer": "ipython3",
   "version": "3.7.3"
  }
 },
 "nbformat": 4,
 "nbformat_minor": 2
}
